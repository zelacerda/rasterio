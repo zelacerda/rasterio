{
 "cells": [
  {
   "cell_type": "code",
   "execution_count": null,
   "metadata": {},
   "outputs": [],
   "source": [
    "%matplotlib inline\n",
    "import numpy as np\n",
    "import rasterio\n",
    "import os\n",
    "import imageio\n",
    "from matplotlib import pyplot as plt"
   ]
  },
  {
   "cell_type": "code",
   "execution_count": null,
   "metadata": {},
   "outputs": [],
   "source": [
    "def mask_to_nan(arr, mask_value=-10000):\n",
    "    \"\"\"Check if an array has mask and convert it to nan values.\n",
    "    \n",
    "    Args:\n",
    "        arr (ndarray): Array to be checked.\n",
    "        mask_value (int, float): Default mask value (optional).\n",
    "        \n",
    "    Returns:\n",
    "        ndarray = New array with nan values.   \n",
    "    \"\"\"\n",
    "    \n",
    "    result = arr\n",
    "    result[result == mask_value] = np.nan\n",
    "    return result\n",
    "\n",
    "def array_to_tiles(arr, tile_dim, path='', name=\"tile\", with_mask=False):\n",
    "    \"\"\"Convert an array into a set of tiles.\n",
    "    \n",
    "    A set of files will be saved on the relative path folder. The name\n",
    "    of files will index the top left pixel of image.\n",
    "    \n",
    "    Example: tile_0100_0200.tif (tile starting at 100x200).\n",
    "    \n",
    "    Args:\n",
    "        arr (ndarray) = Array to be tiled.\n",
    "        tile_dim (tuple) = Width and height tile dimensions.\n",
    "        path (string) = Folder to save the tiles.\n",
    "        name (string) = The filename.\n",
    "        with_mask (boolean) = Include tiles with mask pixels.\n",
    "    \n",
    "    Returns:\n",
    "        None\n",
    "    \n",
    "    \"\"\"\n",
    "    height, width = arr.shape\n",
    "    \n",
    "    decimal_places_x = int(np.log10(width)) + 1\n",
    "    decimal_places_y = int(np.log10(height)) + 1 \n",
    "    \n",
    "    try:\n",
    "        os.listdir(path)\n",
    "    except FileNotFoundError:\n",
    "        os.makedirs(path)\n",
    "    \n",
    "    for y in range(0, height - tile_dim[0] + 1, tile_dim[0]): # to prevent out of box\n",
    "        for x in range (0, width - tile_dim[1] + 1, tile_dim[1]):\n",
    "            \n",
    "            tile = arr[y:y+tile_dim[0], x:x+tile_dim[1]]\n",
    "            \n",
    "            # Checks if tile has mask pixels\n",
    "            if with_mask or np.isnan(tile).any() == False:\n",
    "                \n",
    "                filename = f\"{name}_{y:0{decimal_places_y}}_{x:0{decimal_places_x}}.tif\"\n",
    "                imageio.imwrite(path+filename, tile)"
   ]
  },
  {
   "cell_type": "code",
   "execution_count": null,
   "metadata": {},
   "outputs": [],
   "source": [
    "uri = \"\" # Input file\n",
    "\n",
    "with rasterio.open(uri) as file:\n",
    "    img = file.read(1)"
   ]
  },
  {
   "cell_type": "code",
   "execution_count": null,
   "metadata": {},
   "outputs": [],
   "source": [
    "img = mask_to_nan(img)"
   ]
  },
  {
   "cell_type": "code",
   "execution_count": null,
   "metadata": {},
   "outputs": [],
   "source": [
    "img /= np.nanmax(img)"
   ]
  },
  {
   "cell_type": "code",
   "execution_count": null,
   "metadata": {},
   "outputs": [],
   "source": [
    "array_to_tiles(img, (200,200), path='tiles/')"
   ]
  },
  {
   "cell_type": "code",
   "execution_count": null,
   "metadata": {},
   "outputs": [],
   "source": [
    "sample_tile = \"\" # Sample tile image\n",
    "\n",
    "tile = imageio.imread(sample_tile)\n",
    "plt.imshow(tile, cmap='gray')"
   ]
  }
 ],
 "metadata": {
  "kernelspec": {
   "display_name": "Python 3",
   "language": "python",
   "name": "python3"
  },
  "language_info": {
   "codemirror_mode": {
    "name": "ipython",
    "version": 3
   },
   "file_extension": ".py",
   "mimetype": "text/x-python",
   "name": "python",
   "nbconvert_exporter": "python",
   "pygments_lexer": "ipython3",
   "version": "3.6.4"
  }
 },
 "nbformat": 4,
 "nbformat_minor": 2
}
